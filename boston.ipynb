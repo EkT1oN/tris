{
 "metadata": {
  "language_info": {
   "codemirror_mode": {
    "name": "ipython",
    "version": 3
   },
   "file_extension": ".py",
   "mimetype": "text/x-python",
   "name": "python",
   "nbconvert_exporter": "python",
   "pygments_lexer": "ipython3",
   "version": "3.8.9"
  },
  "orig_nbformat": 2,
  "kernelspec": {
   "name": "python389jvsc74a57bd00f83d342e98484a010df626dda691e8b4833dc694f818ed4313faeed5486bc82",
   "display_name": "Python 3.8.9 64-bit ('venv')"
  }
 },
 "nbformat": 4,
 "nbformat_minor": 2,
 "cells": [
  {
   "source": [
    "## Импортирование библиотек"
   ],
   "cell_type": "markdown",
   "metadata": {}
  },
  {
   "cell_type": "code",
   "execution_count": 1,
   "metadata": {},
   "outputs": [],
   "source": [
    "import pandas as pd\n",
    "import numpy as np\n",
    "import matplotlib.pyplot as plt\n",
    "from sklearn.datasets import load_boston\n",
    "from sklearn.model_selection import train_test_split\n",
    "from sklearn.metrics import mean_squared_error\n",
    "from sklearn.tree import DecisionTreeRegressor\n",
    "from sklearn.ensemble import RandomForestRegressor\n",
    "from numpy import mean\n",
    "from sklearn.linear_model import LinearRegression"
   ]
  },
  {
   "cell_type": "code",
   "execution_count": 2,
   "metadata": {},
   "outputs": [],
   "source": [
    "boston = load_boston()\n",
    "X = boston[\"data\"]\n",
    "y = boston[\"target\"]\n",
    "np.random.seed(42)"
   ]
  },
  {
   "source": [
    "### построение бутстрап-выборки из выборки x,y и индексов idx"
   ],
   "cell_type": "markdown",
   "metadata": {}
  },
  {
   "cell_type": "code",
   "execution_count": 4,
   "metadata": {},
   "outputs": [],
   "source": [
    "def build_bootstrap_samples(x, y, idx):\n",
    "    chosen_indexes = np.random.choice(idx, size=idx.shape[0], replace=True)\n",
    "    chosen_x = x[chosen_indexes]\n",
    "    chosen_y = y[chosen_indexes]\n",
    "    return chosen_x, chosen_y, chosen_indexes"
   ]
  },
  {
   "source": [
    "### вычисление ошибки, смещения и разброса модели путем построения бутсрап-выборок"
   ],
   "cell_type": "markdown",
   "metadata": {}
  },
  {
   "cell_type": "code",
   "execution_count": 7,
   "metadata": {},
   "outputs": [],
   "source": [
    "def evaluate_variance_bias_tradeoff(model, model_label, x, y, n_rounds):\n",
    "    predictions = np.zeros((n_rounds, y.shape[0]))\n",
    "    indexes = np.arange(y.shape[0])\n",
    "    \n",
    "    for i in range(n_rounds):\n",
    "        x_bootstrap, y_bootstrap, indexes_bootstrap = build_bootstrap_samples(x, y, indexes)\n",
    "        indexes_out_of_bag = np.setdiff1d(indexes, indexes_bootstrap)\n",
    "        x_out_of_bag = x[indexes_out_of_bag]\n",
    "        predictions[i][indexes_out_of_bag] = model.fit(x_bootstrap, y_bootstrap).predict(x_out_of_bag)\n",
    "        predictions[i][indexes_bootstrap] = np.NaN\n",
    "        \n",
    "    error = np.nanmean((predictions - y)**2)\n",
    "    variance = np.mean(np.nanvar(predictions, axis=0, ddof=1))\n",
    "    bias = np.mean((np.nanmean(predictions, axis=0) - y)**2)\n",
    "    return predictions, pd.DataFrame( dict(error=[error], variance=[variance], bias=[bias], model=[model_label]) )"
   ]
  },
  {
   "cell_type": "code",
   "execution_count": 8,
   "metadata": {},
   "outputs": [],
   "source": [
    "BOOTSTRAP_ROUNDS = 100"
   ]
  },
  {
   "source": [
    "### вычисление предсказаний и ошибки, разброса, смещения для линейной регрессии"
   ],
   "cell_type": "markdown",
   "metadata": {}
  },
  {
   "cell_type": "code",
   "execution_count": 12,
   "metadata": {},
   "outputs": [],
   "source": [
    "lr_predictions, lr_scores = evaluate_variance_bias_tradeoff(model=LinearRegression(), model_label='LinearRegression', x=X, y=y, n_rounds=BOOTSTRAP_ROUNDS)"
   ]
  },
  {
   "source": [
    "### вычисление предсказаний и ошибки, разброса, смещения для решающего дерева"
   ],
   "cell_type": "markdown",
   "metadata": {}
  },
  {
   "cell_type": "code",
   "execution_count": 9,
   "metadata": {},
   "outputs": [],
   "source": [
    "dt_predictions, dt_scores = evaluate_variance_bias_tradeoff(model=DecisionTreeRegressor(), model_label='DecisionTree', x=X, y=y, n_rounds=BOOTSTRAP_ROUNDS)"
   ]
  },
  {
   "source": [
    "### вычисление предсказаний и ошибки, разброса, смещения для случайного леса"
   ],
   "cell_type": "markdown",
   "metadata": {}
  },
  {
   "cell_type": "code",
   "execution_count": 10,
   "metadata": {},
   "outputs": [],
   "source": [
    "rf_predictions, rf_scores = evaluate_variance_bias_tradeoff(model=RandomForestRegressor(), model_label='RandomForest', x=X, y=y, n_rounds=BOOTSTRAP_ROUNDS)"
   ]
  },
  {
   "cell_type": "code",
   "execution_count": 14,
   "metadata": {},
   "outputs": [
    {
     "output_type": "execute_result",
     "data": {
      "text/plain": [
       "                      error   variance       bias\n",
       "model                                            \n",
       "LinearRegression  24.245616   0.891447  23.707356\n",
       "DecisionTree      24.045279  13.714874  10.607370\n",
       "RandomForest      12.642663   2.459253  10.385976"
      ],
      "text/html": "<div>\n<style scoped>\n    .dataframe tbody tr th:only-of-type {\n        vertical-align: middle;\n    }\n\n    .dataframe tbody tr th {\n        vertical-align: top;\n    }\n\n    .dataframe thead th {\n        text-align: right;\n    }\n</style>\n<table border=\"1\" class=\"dataframe\">\n  <thead>\n    <tr style=\"text-align: right;\">\n      <th></th>\n      <th>error</th>\n      <th>variance</th>\n      <th>bias</th>\n    </tr>\n    <tr>\n      <th>model</th>\n      <th></th>\n      <th></th>\n      <th></th>\n    </tr>\n  </thead>\n  <tbody>\n    <tr>\n      <th>LinearRegression</th>\n      <td>24.245616</td>\n      <td>0.891447</td>\n      <td>23.707356</td>\n    </tr>\n    <tr>\n      <th>DecisionTree</th>\n      <td>24.045279</td>\n      <td>13.714874</td>\n      <td>10.607370</td>\n    </tr>\n    <tr>\n      <th>RandomForest</th>\n      <td>12.642663</td>\n      <td>2.459253</td>\n      <td>10.385976</td>\n    </tr>\n  </tbody>\n</table>\n</div>"
     },
     "metadata": {},
     "execution_count": 14
    }
   ],
   "source": [
    "results = pd.concat([lr_scores, dt_scores, rf_scores]).set_index('model')\n",
    "results"
   ]
  },
  {
   "source": [
    "### сумма разброса и смещения очень близка к общей ошибке, отличия обусловлены случайным шумом"
   ],
   "cell_type": "markdown",
   "metadata": {}
  },
  {
   "source": [
    "### Исходя из полученных результатов\n",
    "- Linear Regression: смещение значительно превышает разброс, возможно недообучение модели;\n",
    "- Decision Tree: разброс и смещение близки друг к другу, присутствует правильный баланс между недообучением и переобучением;\n",
    "- Random Forest: смещение намного больше разброса, алгоритм недообучен, при этом общая ошибка значительно меньше, чем у других моделей линейной регрессии и решающего дерева."
   ],
   "cell_type": "markdown",
   "metadata": {}
  }
 ]
}